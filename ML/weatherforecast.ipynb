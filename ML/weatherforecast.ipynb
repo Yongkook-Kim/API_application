{
  "nbformat": 4,
  "nbformat_minor": 0,
  "metadata": {
    "colab": {
      "name": "Untitled92.ipynb",
      "provenance": []
    },
    "kernelspec": {
      "name": "python3",
      "display_name": "Python 3"
    },
    "language_info": {
      "name": "python"
    }
  },
  "cells": [
    {
      "cell_type": "code",
      "metadata": {
        "id": "Pl9du_QYjONh"
      },
      "source": [
        "import requests\n",
        "import re\n",
        "\n",
        "cities = ['London,uk', 'Paris,fr', 'Porto,pt']\n",
        "weather_dict = {}\n",
        "\n",
        "def city_forecast(city):\n",
        "  url = \"https://community-open-weather-map.p.rapidapi.com/forecast\"\n",
        "  querystring = {\"q\":city}\n",
        "  headers = {\n",
        "    'x-rapidapi-host': \"community-open-weather-map.p.rapidapi.com\",\n",
        "    'x-rapidapi-key': \"......\"\n",
        "    }\n",
        "\n",
        "  response = requests.request(\"GET\", url, headers=headers, params=querystring)\n",
        "  return response.json()"
      ],
      "execution_count": 7,
      "outputs": []
    },
    {
      "cell_type": "code",
      "metadata": {
        "id": "5jLAbaXfj3wG"
      },
      "source": [
        "for city in cities:\n",
        "  weather_dict[city] = city_forecast(city)"
      ],
      "execution_count": 8,
      "outputs": []
    },
    {
      "cell_type": "code",
      "metadata": {
        "id": "m7tMFoPXkCw2"
      },
      "source": [
        "def get_day_weather(pred):\n",
        "  pattern =re.compile(\" [0-9]*:[0-9]*:[0-9]*\")\n",
        "  t = pattern.search(pred['dt_txt'])\n",
        "\n",
        "  hour = int(t[0].split(':')[0])\n",
        "  \n",
        "  if 10<=hour<=19:\n",
        "        return True\n",
        "\n",
        "  return False\n",
        "\n",
        "day_weather = {}\n",
        "\n",
        "for city in weather_dict.keys():\n",
        "  day_weather[city] = list(filter(get_day_weather, weather_dict[city]['list']))"
      ],
      "execution_count": 9,
      "outputs": []
    },
    {
      "cell_type": "code",
      "metadata": {
        "colab": {
          "base_uri": "https://localhost:8080/"
        },
        "id": "bmBZAUmSkC8D",
        "outputId": "e00d2ad8-1f7c-4000-e497-a3243c83a348"
      },
      "source": [
        "def travel_estimator(weather_stat):\n",
        "  estimation = {}\n",
        "\n",
        "  for city in weather_stat.keys():    \n",
        "        estimation[city] = {}\n",
        "        estimation[city]['clear_sky_count'] = 0\n",
        "        estimation[city]['av_temp'] = 0\n",
        "\n",
        "        for prediction in day_weather[city]:\n",
        "          estimation[city]['av_temp'] += prediction['main']['temp']\n",
        "          if prediction['weather'][0]['description'] in ['clear sky', 'few clouds']:\n",
        "            estimation[city]['clear_sky_count'] += 1          \n",
        "\n",
        "        estimation[city]['av_temp'] = round(estimation[city]['av_temp'] / len(day_weather[city]), 2)\n",
        "        # convert temperature to celsius\n",
        "        estimation[city]['av_temp_cels'] = round(estimation[city]['av_temp'] - 273.15, 2)\n",
        "\n",
        "  return estimation\n",
        "\n",
        "travel_rating = travel_estimator(day_weather)\n",
        "\n",
        "# sort cities by clear sky forecasts\n",
        "sorted_travel_rating = sorted(travel_rating.items() ,  key=lambda x: x[1]['av_temp_cels'] )\n",
        "\n",
        "\n",
        "for city in sorted_travel_rating:\n",
        "  print(city[0])\n",
        "  print('Clear sky forecasts:', city[1]['clear_sky_count'])  \n",
        "  print('Average temperature:', city[1]['av_temp_cels'], \"C\")\n",
        "  print('n')"
      ],
      "execution_count": 10,
      "outputs": [
        {
          "output_type": "stream",
          "name": "stdout",
          "text": [
            "London,uk\n",
            "Clear sky forecasts: 2\n",
            "Average temperature: 14.8 C\n",
            "n\n",
            "Paris,fr\n",
            "Clear sky forecasts: 3\n",
            "Average temperature: 16.77 C\n",
            "n\n",
            "Porto,pt\n",
            "Clear sky forecasts: 1\n",
            "Average temperature: 19.13 C\n",
            "n\n"
          ]
        }
      ]
    },
    {
      "cell_type": "code",
      "metadata": {
        "id": "wKFSzQNDkC-x"
      },
      "source": [
        ""
      ],
      "execution_count": null,
      "outputs": []
    },
    {
      "cell_type": "code",
      "metadata": {
        "id": "7Mf4tMG4kDB7"
      },
      "source": [
        ""
      ],
      "execution_count": null,
      "outputs": []
    },
    {
      "cell_type": "code",
      "metadata": {
        "id": "jaO7nEWbkDE6"
      },
      "source": [
        ""
      ],
      "execution_count": null,
      "outputs": []
    }
  ]
}