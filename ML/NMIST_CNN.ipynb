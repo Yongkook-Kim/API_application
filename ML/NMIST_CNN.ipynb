{
  "nbformat": 4,
  "nbformat_minor": 0,
  "metadata": {
    "accelerator": "GPU",
    "colab": {
      "name": "NMIST-CNN.ipynb",
      "provenance": []
    },
    "kernelspec": {
      "display_name": "Python 3",
      "name": "python3"
    },
    "language_info": {
      "name": "python"
    }
  },
  "cells": [
    {
      "cell_type": "code",
      "metadata": {
        "colab": {
          "base_uri": "https://localhost:8080/"
        },
        "id": "BHkb_7oxG5nU",
        "outputId": "28f73d9d-b4cb-4e87-84bc-f94c64ff766c"
      },
      "source": [
        "import keras\n",
        "from tensorflow.keras.datasets import mnist\n",
        "from tensorflow.keras.models import Sequential\n",
        "from tensorflow.keras.layers import Dense, Dropout, Flatten\n",
        "from tensorflow.keras.layers import Conv2D, MaxPooling2D\n",
        "from tensorflow.keras.utils import to_categorical\n",
        "\n",
        "# the data, split between train and test sets\n",
        "(x_train, y_train), (x_test, y_test) = mnist.load_data()\n",
        "print(x_train.shape, y_train.shape)\n",
        "print(x_test.shape, y_test.shape)"
      ],
      "execution_count": 2,
      "outputs": [
        {
          "output_type": "stream",
          "name": "stdout",
          "text": [
            "(60000, 28, 28) (60000,)\n",
            "(10000, 28, 28) (10000,)\n"
          ]
        }
      ]
    },
    {
      "cell_type": "code",
      "metadata": {
        "colab": {
          "base_uri": "https://localhost:8080/"
        },
        "id": "VB2p0dhsG_2l",
        "outputId": "4134e2b7-8e21-4b7d-a5b5-5a3874d2cc36"
      },
      "source": [
        "num_classes = 10\n",
        "\n",
        "x_train0 = x_train.reshape(x_train.shape[0], 28, 28, 1)\n",
        "y_train0 = y_train\n",
        "\n",
        "x_train = x_train0[:50000]\n",
        "x_valid = x_train0[50000:]\n",
        "\n",
        "y_train = y_train0[:50000]\n",
        "y_valid = y_train0[50000:]\n",
        "\n",
        "x_test = x_test.reshape(x_test.shape[0], 28, 28, 1)\n",
        "input_shape = (28, 28, 1)\n",
        "\n",
        "# convert class vectors to binary class matrices\n",
        "y_train = to_categorical(y_train, num_classes)\n",
        "y_valid = to_categorical(y_valid, num_classes)\n",
        "y_test = to_categorical(y_test, num_classes)\n",
        "x_train = x_train.astype('float32')\n",
        "x_valid = x_valid.astype('float32')\n",
        "x_test = x_test.astype('float32')\n",
        "x_train /= 255\n",
        "x_valid /=255\n",
        "x_test /= 255\n",
        "print('x_train shape:', x_train.shape)\n",
        "print(x_train.shape[0], 'train samples')\n",
        "print(x_valid.shape[0], 'valid samples')\n",
        "print(x_test.shape[0], 'test samples')"
      ],
      "execution_count": 3,
      "outputs": [
        {
          "output_type": "stream",
          "name": "stdout",
          "text": [
            "x_train shape: (50000, 28, 28, 1)\n",
            "50000 train samples\n",
            "10000 valid samples\n",
            "10000 test samples\n"
          ]
        }
      ]
    },
    {
      "cell_type": "code",
      "metadata": {
        "id": "psGhOrn8G__P"
      },
      "source": [
        "from tensorflow.keras.losses import categorical_crossentropy\n",
        "from tensorflow.keras.optimizers import RMSprop\n",
        "\n",
        "batch_size = 128\n",
        "epochs = 10\n",
        "\n",
        "model = Sequential()\n",
        "model.add(Conv2D(32, kernel_size=(3, 3),activation='relu',input_shape=input_shape))\n",
        "model.add(Conv2D(64, (3, 3), activation='relu'))\n",
        "model.add(MaxPooling2D(pool_size=(2, 2)))\n",
        "model.add(Dropout(0.25))\n",
        "model.add(Flatten())\n",
        "model.add(Dense(256, activation='relu'))\n",
        "model.add(Dropout(0.5))\n",
        "model.add(Dense(num_classes, activation='softmax'))\n",
        "model.compile(loss=categorical_crossentropy,optimizer=RMSprop(),metrics=['accuracy'])"
      ],
      "execution_count": 4,
      "outputs": []
    },
    {
      "cell_type": "code",
      "metadata": {
        "colab": {
          "base_uri": "https://localhost:8080/"
        },
        "id": "flx_75tGHAB4",
        "outputId": "439d0fbf-6080-4148-d662-a380449682f6"
      },
      "source": [
        "hist = model.fit(x_train, y_train,batch_size=batch_size,epochs=epochs,verbose=1,validation_data=(x_valid, y_valid))\n",
        "print(\"The model has successfully trained\")\n",
        "model.save('mnist.h5')\n",
        "print(\"Saving the model as mnist.h5\")"
      ],
      "execution_count": 5,
      "outputs": [
        {
          "output_type": "stream",
          "name": "stdout",
          "text": [
            "Epoch 1/10\n",
            "391/391 [==============================] - 38s 19ms/step - loss: 0.2031 - accuracy: 0.9370 - val_loss: 0.0602 - val_accuracy: 0.9822\n",
            "Epoch 2/10\n",
            "391/391 [==============================] - 7s 18ms/step - loss: 0.0679 - accuracy: 0.9792 - val_loss: 0.0489 - val_accuracy: 0.9859\n",
            "Epoch 3/10\n",
            "391/391 [==============================] - 7s 18ms/step - loss: 0.0501 - accuracy: 0.9851 - val_loss: 0.0458 - val_accuracy: 0.9878\n",
            "Epoch 4/10\n",
            "391/391 [==============================] - 7s 18ms/step - loss: 0.0414 - accuracy: 0.9880 - val_loss: 0.0436 - val_accuracy: 0.9889\n",
            "Epoch 5/10\n",
            "391/391 [==============================] - 7s 17ms/step - loss: 0.0354 - accuracy: 0.9887 - val_loss: 0.0390 - val_accuracy: 0.9896\n",
            "Epoch 6/10\n",
            "391/391 [==============================] - 7s 17ms/step - loss: 0.0317 - accuracy: 0.9904 - val_loss: 0.0371 - val_accuracy: 0.9898\n",
            "Epoch 7/10\n",
            "391/391 [==============================] - 7s 18ms/step - loss: 0.0281 - accuracy: 0.9915 - val_loss: 0.0365 - val_accuracy: 0.9901\n",
            "Epoch 8/10\n",
            "391/391 [==============================] - 7s 18ms/step - loss: 0.0274 - accuracy: 0.9916 - val_loss: 0.0450 - val_accuracy: 0.9868\n",
            "Epoch 9/10\n",
            "391/391 [==============================] - 7s 18ms/step - loss: 0.0250 - accuracy: 0.9920 - val_loss: 0.0367 - val_accuracy: 0.9897\n",
            "Epoch 10/10\n",
            "391/391 [==============================] - 7s 18ms/step - loss: 0.0248 - accuracy: 0.9925 - val_loss: 0.0302 - val_accuracy: 0.9911\n",
            "The model has successfully trained\n",
            "Saving the model as mnist.h5\n"
          ]
        }
      ]
    },
    {
      "cell_type": "code",
      "metadata": {
        "colab": {
          "base_uri": "https://localhost:8080/"
        },
        "id": "9lnojWcxHAEj",
        "outputId": "239dbce0-669a-40f4-fcd1-27d9bcd0820f"
      },
      "source": [
        "score = model.evaluate(x_test, y_test, verbose=0)\n",
        "print('Test loss:', score[0])\n",
        "print('Test accuracy:', score[1])"
      ],
      "execution_count": 6,
      "outputs": [
        {
          "output_type": "stream",
          "name": "stdout",
          "text": [
            "Test loss: 0.028720321133732796\n",
            "Test accuracy: 0.9909999966621399\n"
          ]
        }
      ]
    },
    {
      "cell_type": "code",
      "metadata": {
        "id": "-5fR5bMxHAHV"
      },
      "source": [
        ""
      ],
      "execution_count": null,
      "outputs": []
    },
    {
      "cell_type": "code",
      "metadata": {
        "id": "RtQhmO12HAKN"
      },
      "source": [
        ""
      ],
      "execution_count": null,
      "outputs": []
    },
    {
      "cell_type": "code",
      "metadata": {
        "id": "-1yGEbbRHANA"
      },
      "source": [
        ""
      ],
      "execution_count": null,
      "outputs": []
    },
    {
      "cell_type": "code",
      "metadata": {
        "id": "E0FD30thHAPr"
      },
      "source": [
        ""
      ],
      "execution_count": null,
      "outputs": []
    },
    {
      "cell_type": "code",
      "metadata": {
        "id": "1QJ6Px5hHASd"
      },
      "source": [
        ""
      ],
      "execution_count": null,
      "outputs": []
    },
    {
      "cell_type": "code",
      "metadata": {
        "id": "sumpzkIvHAVa"
      },
      "source": [
        ""
      ],
      "execution_count": null,
      "outputs": []
    }
  ]
}