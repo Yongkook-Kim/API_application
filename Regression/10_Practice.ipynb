{
  "nbformat": 4,
  "nbformat_minor": 0,
  "metadata": {
    "colab": {
      "name": "test1_[김용국].ipynb",
      "provenance": [],
      "collapsed_sections": []
    },
    "kernelspec": {
      "name": "python3",
      "display_name": "Python 3"
    },
    "language_info": {
      "name": "python"
    }
  },
  "cells": [
    {
      "cell_type": "code",
      "metadata": {
        "id": "fdfb_Lvep4zO"
      },
      "source": [
        "from sklearn.datasets import load_digits\n",
        "\n",
        "d = load_digits()"
      ],
      "execution_count": 17,
      "outputs": []
    },
    {
      "cell_type": "code",
      "metadata": {
        "colab": {
          "base_uri": "https://localhost:8080/"
        },
        "id": "hWrLAVZxyGUR",
        "outputId": "781e365b-a448-409d-dd53-21a6ff57e80d"
      },
      "source": [
        "d.images.shape"
      ],
      "execution_count": 20,
      "outputs": [
        {
          "output_type": "execute_result",
          "data": {
            "text/plain": [
              "(1797, 8, 8)"
            ]
          },
          "metadata": {},
          "execution_count": 20
        }
      ]
    },
    {
      "cell_type": "code",
      "metadata": {
        "id": "lg6lSXZayGWq"
      },
      "source": [
        "from sklearn.model_selection import train_test_split\n",
        "import numpy as np\n",
        "import pandas as pd\n",
        "\n",
        "(trainData, testData, trainLabels, testLabels) = train_test_split(np.array(d.data), d.target, test_size=0.1, random_state=42)"
      ],
      "execution_count": 26,
      "outputs": []
    },
    {
      "cell_type": "code",
      "metadata": {
        "colab": {
          "base_uri": "https://localhost:8080/"
        },
        "id": "IkaaweypyGY8",
        "outputId": "21e8577b-8351-4605-cc0a-9f604483688b"
      },
      "source": [
        "trainData.shape"
      ],
      "execution_count": 27,
      "outputs": [
        {
          "output_type": "execute_result",
          "data": {
            "text/plain": [
              "(1617, 64)"
            ]
          },
          "metadata": {},
          "execution_count": 27
        }
      ]
    },
    {
      "cell_type": "code",
      "metadata": {
        "colab": {
          "base_uri": "https://localhost:8080/"
        },
        "id": "bmu72M-NyGbW",
        "outputId": "a48a47db-ec25-45be-abb4-a09f188b4fc4"
      },
      "source": [
        "from sklearn.neighbors import KNeighborsClassifier\n",
        "\n",
        "model = KNeighborsClassifier(10)\n",
        "model.fit(trainData, trainLabels)"
      ],
      "execution_count": 28,
      "outputs": [
        {
          "output_type": "execute_result",
          "data": {
            "text/plain": [
              "KNeighborsClassifier(algorithm='auto', leaf_size=30, metric='minkowski',\n",
              "                     metric_params=None, n_jobs=None, n_neighbors=10, p=2,\n",
              "                     weights='uniform')"
            ]
          },
          "metadata": {},
          "execution_count": 28
        }
      ]
    },
    {
      "cell_type": "code",
      "metadata": {
        "id": "w1LrMrDJyGd2"
      },
      "source": [
        "yhat = model.predict(testData)"
      ],
      "execution_count": 29,
      "outputs": []
    },
    {
      "cell_type": "code",
      "metadata": {
        "colab": {
          "base_uri": "https://localhost:8080/"
        },
        "id": "zi5mWvbnyGgt",
        "outputId": "0fb59824-8c40-40d1-a398-015b11060efc"
      },
      "source": [
        "from sklearn.metrics import confusion_matrix\n",
        "\n",
        "confusion_matrix(yhat, testLabels)"
      ],
      "execution_count": 30,
      "outputs": [
        {
          "output_type": "execute_result",
          "data": {
            "text/plain": [
              "array([[17,  0,  0,  0,  0,  0,  0,  0,  0,  0],\n",
              "       [ 0, 11,  0,  0,  0,  0,  0,  0,  0,  0],\n",
              "       [ 0,  0, 17,  0,  0,  0,  0,  0,  0,  0],\n",
              "       [ 0,  0,  0, 17,  0,  0,  0,  0,  0,  0],\n",
              "       [ 0,  0,  0,  0, 25,  0,  0,  0,  0,  1],\n",
              "       [ 0,  0,  0,  0,  0, 22,  0,  0,  0,  0],\n",
              "       [ 0,  0,  0,  0,  0,  0, 19,  0,  0,  0],\n",
              "       [ 0,  0,  0,  0,  0,  0,  0, 19,  0,  0],\n",
              "       [ 0,  0,  0,  0,  0,  0,  0,  0,  8,  0],\n",
              "       [ 0,  0,  0,  0,  0,  0,  0,  0,  0, 24]])"
            ]
          },
          "metadata": {},
          "execution_count": 30
        }
      ]
    },
    {
      "cell_type": "code",
      "metadata": {
        "colab": {
          "base_uri": "https://localhost:8080/"
        },
        "id": "IEHEUSKqyGjF",
        "outputId": "b7e8f7eb-4dc0-4422-de40-837214d07433"
      },
      "source": [
        "model.score(testData, testLabels)"
      ],
      "execution_count": 33,
      "outputs": [
        {
          "output_type": "execute_result",
          "data": {
            "text/plain": [
              "0.9944444444444445"
            ]
          },
          "metadata": {},
          "execution_count": 33
        }
      ]
    },
    {
      "cell_type": "code",
      "metadata": {
        "id": "9rsDei591Rtb"
      },
      "source": [
        ""
      ],
      "execution_count": null,
      "outputs": []
    }
  ]
}