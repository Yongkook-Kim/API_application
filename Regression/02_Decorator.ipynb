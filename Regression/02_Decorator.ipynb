{
  "nbformat": 4,
  "nbformat_minor": 0,
  "metadata": {
    "colab": {
      "name": "02_Decorator.ipynb",
      "provenance": []
    },
    "kernelspec": {
      "name": "python3",
      "display_name": "Python 3"
    },
    "language_info": {
      "name": "python"
    }
  },
  "cells": [
    {
      "cell_type": "code",
      "metadata": {
        "colab": {
          "base_uri": "https://localhost:8080/"
        },
        "id": "ddXPTnGiHafx",
        "outputId": "d6a7d9e9-4ce5-4902-d47f-43094bc6399d"
      },
      "source": [
        "def para(func):\n",
        "    def wrap(*args, **kwargs):\n",
        "        return \"<p>\"+str(func(*args, **kwargs))+\"</p>\"\n",
        "    return wrap\n",
        "\n",
        "@para\n",
        "def outname(name):\n",
        "    return 'Name: ' + name\n",
        "\n",
        "@para\n",
        "def outage(age):\n",
        "    return 'Age: ' + str(age)\n",
        "\n",
        "print(outname('James Bond'))\n",
        "print(outname.__name__)\n",
        "print(outage(29))\n",
        "print(outage.__name__)"
      ],
      "execution_count": 1,
      "outputs": [
        {
          "output_type": "stream",
          "name": "stdout",
          "text": [
            "<p>Name: James Bond</p>\n",
            "wrap\n",
            "<p>Age: 29</p>\n",
            "wrap\n"
          ]
        }
      ]
    },
    {
      "cell_type": "code",
      "metadata": {
        "id": "li4-j2PEJXpR"
      },
      "source": [
        ""
      ],
      "execution_count": null,
      "outputs": []
    }
  ]
}